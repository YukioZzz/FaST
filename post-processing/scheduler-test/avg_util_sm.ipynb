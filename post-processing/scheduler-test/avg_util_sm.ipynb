{
 "cells": [
  {
   "cell_type": "code",
   "execution_count": 2,
   "metadata": {
    "pycharm": {
     "is_executing": true
    }
   },
   "outputs": [],
   "source": [
    "import pandas as pd\n",
    "import json\n",
    "\n"
   ]
  },
  {
   "cell_type": "code",
   "execution_count": 3,
   "metadata": {
    "pycharm": {
     "name": "#%%\n"
    }
   },
   "outputs": [
    {
     "name": "stdout",
     "output_type": "stream",
     "text": [
      "util_time\n",
      "['kubeshare-vgpu-gpu3-asruo', 'kubeshare-vgpu-gpu4-pukzt', 'kubeshare-vgpu-gpu1-whzzv', 'kubeshare-vgpu-gpu2-qqkds']\n",
      "[43.30708661417323]\n",
      "[47.48031496062992]\n",
      "[28.89763779527559]\n",
      "[31.724409448818896]\n",
      "sm_time\n",
      "['kubeshare-vgpu-gpu3-asruo', 'kubeshare-vgpu-gpu4-pukzt', 'kubeshare-vgpu-gpu1-whzzv', 'kubeshare-vgpu-gpu2-qqkds']\n",
      "[0.08609396850393705]\n",
      "[0.09388559055118122]\n",
      "[0.031135157480314955]\n",
      "[0.033458440944881866]\n",
      "util_spatial\n",
      "['kubeshare-vgpu-gpu3-fwiym', 'kubeshare-vgpu-gpu4-nulwu', 'kubeshare-vgpu-gpu1-iibde', 'kubeshare-vgpu-gpu2-vnqbb']\n",
      "[0.0]\n",
      "[0.0]\n",
      "[88.64197530864197]\n",
      "[0.0]\n",
      "sm_spatial\n",
      "['kubeshare-vgpu-gpu3-fwiym', 'kubeshare-vgpu-gpu4-nulwu', 'kubeshare-vgpu-gpu1-iibde', 'kubeshare-vgpu-gpu2-vnqbb']\n",
      "[0.0]\n",
      "[0.0]\n",
      "[0.25300679012345706]\n",
      "[0.0]\n"
     ]
    }
   ],
   "source": [
    "task_names = [\"util_time\", \"sm_time\", \"util_spatial\", \"sm_spatial\"]\n",
    "\n",
    "#pod_names =  ['kubeshare-vgpu-gpu1-trhit', 'kubeshare-vgpu-gpu2-bpfcm', 'kubeshare-vgpu-gpu3-gedwp', 'kubeshare-vgpu-gpu4-putwm']\n",
    "for task in task_names:\n",
    "    print(task)\n",
    "    with open(task + '_1s.json') as f:\n",
    "        data = json.load(f)\n",
    "    #get name of GPUs\n",
    "    pod_names = []\n",
    "    for re in data['data']['result']:\n",
    "        if re['metric']['device'] == \"nvidia0\":\n",
    "            pod_names.append(re['metric']['pod'])\n",
    "      \n",
    "    print(pod_names)\n",
    "    # create a list of dictionaries with the GPU data\n",
    "    gpu_data = []\n",
    "    for result in data['data']['result']:\n",
    "        gpu_dict = result['metric']\n",
    "        gpu_dict['values'] = result['values']\n",
    "        gpu_data.append(gpu_dict)\n",
    "\n",
    "\n",
    "    # create a dataframe from the GPU data\n",
    "    df = pd.DataFrame(gpu_data)\n",
    "    # extract the GPU data for the desired pod\n",
    "\n",
    "    for gpu_name in pod_names:\n",
    "        gpu_values = df[df['pod'] == gpu_name]['values'].tolist()\n",
    "        # calculate the average value across the entire time range for each GPU\n",
    "        gpu_avg = []\n",
    "        for values in gpu_values:\n",
    "            data = [float(v[1]) for v in values]\n",
    "            avg = sum(data) / len(data)\n",
    "            gpu_avg.append(avg)\n",
    "        print(gpu_avg)\n",
    "\n",
    "\n",
    "\n",
    "\n",
    "\n"
   ]
  },
  {
   "cell_type": "code",
   "execution_count": null,
   "metadata": {},
   "outputs": [],
   "source": []
  }
 ],
 "metadata": {
  "kernelspec": {
   "display_name": "Python 3 (ipykernel)",
   "language": "python",
   "name": "python3"
  },
  "language_info": {
   "codemirror_mode": {
    "name": "ipython",
    "version": 3
   },
   "file_extension": ".py",
   "mimetype": "text/x-python",
   "name": "python",
   "nbconvert_exporter": "python",
   "pygments_lexer": "ipython3",
   "version": "3.10.6"
  }
 },
 "nbformat": 4,
 "nbformat_minor": 1
}